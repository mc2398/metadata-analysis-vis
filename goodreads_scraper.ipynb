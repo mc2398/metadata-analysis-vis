{
  "nbformat": 4,
  "nbformat_minor": 0,
  "metadata": {
    "colab": {
      "provenance": [],
      "authorship_tag": "ABX9TyOhOEHnKcpwwzTn253DyxTr",
      "include_colab_link": true
    },
    "kernelspec": {
      "name": "python3",
      "display_name": "Python 3"
    },
    "language_info": {
      "name": "python"
    }
  },
  "cells": [
    {
      "cell_type": "markdown",
      "metadata": {
        "id": "view-in-github",
        "colab_type": "text"
      },
      "source": [
        "<a href=\"https://colab.research.google.com/github/mc2398/metadata-analysis-vis/blob/main/goodreads_scraper.ipynb\" target=\"_parent\"><img src=\"https://colab.research.google.com/assets/colab-badge.svg\" alt=\"Open In Colab\"/></a>"
      ]
    },
    {
      "cell_type": "code",
      "execution_count": null,
      "metadata": {
        "id": "j0D2YVftGZlz"
      },
      "outputs": [],
      "source": [
        "# building out the metadata test scraper (trying to get it to loop over a list of books)"
      ]
    },
    {
      "cell_type": "code",
      "source": [
        "# importing libraries I will need to use for the project\n",
        "import requests\n",
        "import re\n",
        "import bs4\n",
        "from time import sleep\n",
        "from urllib.request import urlopen\n",
        "from urllib.error import HTTPError\n",
        "import random\n",
        "import csv\n",
        "import json\n",
        "import pandas as pd"
      ],
      "metadata": {
        "id": "7855kuAq3e7A"
      },
      "execution_count": null,
      "outputs": []
    },
    {
      "cell_type": "code",
      "source": [
        "# code which identifies me as entering the website from a browser (helps avoid recognition as a bot)\n",
        "headers = {\"User-Agent\": \"Mozilla/5.0 (X11; Linux x86_64; rv:78.0)   Gecko/20100101 Firefox/78.0\",\n",
        "\"Referer\": \"https://www.google.com\"}"
      ],
      "metadata": {
        "id": "h-MiPTed4qNO"
      },
      "execution_count": null,
      "outputs": []
    },
    {
      "cell_type": "code",
      "source": [
        "# Step 1- creating a list of the pages I want to pull data from using a dictionary + link stem\n",
        "competition_links = [\n",
        "    '2024',\n",
        "    '2023',\n",
        "    '2022',\n",
        "    '2021',\n",
        "    '2020',\n",
        "    '2019',\n",
        "    '2018',\n",
        "    '2017',\n",
        "    '2016',\n",
        "    '2015',\n",
        "    '2014',\n",
        "    '2013',\n",
        "    '2012',\n",
        "    '2011'\n",
        "]"
      ],
      "metadata": {
        "id": "P3yhcgSo3iMb"
      },
      "execution_count": null,
      "outputs": []
    },
    {
      "cell_type": "code",
      "source": [
        "url_list = [\"https://www.goodreads.com/choiceawards/best-books-\"+ls for ls in competition_links]\n",
        "print(url_list) # \"sanity check\" to test my script"
      ],
      "metadata": {
        "colab": {
          "base_uri": "https://localhost:8080/"
        },
        "id": "X2Sci1Vf3oQ8",
        "outputId": "10d64374-cd5b-49c7-c6b7-e470fda4a84d"
      },
      "execution_count": null,
      "outputs": [
        {
          "output_type": "stream",
          "name": "stdout",
          "text": [
            "['https://www.goodreads.com/choiceawards/best-books-2024', 'https://www.goodreads.com/choiceawards/best-books-2023', 'https://www.goodreads.com/choiceawards/best-books-2022', 'https://www.goodreads.com/choiceawards/best-books-2021', 'https://www.goodreads.com/choiceawards/best-books-2020', 'https://www.goodreads.com/choiceawards/best-books-2019', 'https://www.goodreads.com/choiceawards/best-books-2018', 'https://www.goodreads.com/choiceawards/best-books-2017', 'https://www.goodreads.com/choiceawards/best-books-2016', 'https://www.goodreads.com/choiceawards/best-books-2015', 'https://www.goodreads.com/choiceawards/best-books-2014', 'https://www.goodreads.com/choiceawards/best-books-2013', 'https://www.goodreads.com/choiceawards/best-books-2012', 'https://www.goodreads.com/choiceawards/best-books-2011']\n"
          ]
        }
      ]
    },
    {
      "cell_type": "code",
      "source": [
        "# functions to pull all of the links for every competitition category in each year and output a new list of the urls\n",
        "def getPage(url):\n",
        "    response = requests.get(url, headers=headers)\n",
        "    sleep_time = random.randint(10, 19)/10\n",
        "    sleep(sleep_time)\n",
        "    return response\n",
        "\n",
        "all_cat_links = []\n",
        "\n",
        "results = map(getPage, url_list)\n",
        "for result in results:\n",
        "    soup = bs4.BeautifulSoup(result.content,\"html.parser\")\n",
        "    search_term = r'^/choiceawards/|(-)(\\d+)(?!.*\\d)' # regex to pull only desired links\n",
        "    main_content = soup.find(id=\"landingLeft\") # isolate the main content of the page (excludes nav/column)\n",
        "    links = main_content.find_all('a', href=True) # isolate the links in the main page content\n",
        "    # pull the links to pages for each category in a year\n",
        "    for a in links:\n",
        "      link_url = a['href']\n",
        "      # sub_urls = []\n",
        "      if re.search(search_term, link_url):\n",
        "        all_cat_links.append(link_url)\n",
        "        #print(link_url)"
      ],
      "metadata": {
        "id": "wHA2nUzAF_n6"
      },
      "execution_count": null,
      "outputs": []
    },
    {
      "cell_type": "code",
      "source": [
        "print(all_cat_links)"
      ],
      "metadata": {
        "id": "HSEMafbSGk7P",
        "colab": {
          "base_uri": "https://localhost:8080/"
        },
        "outputId": "bc8170a7-6cb2-44b4-c1f0-39b190e01d07"
      },
      "execution_count": null,
      "outputs": [
        {
          "output_type": "stream",
          "name": "stdout",
          "text": [
            "['/choiceawards/readers-favorite-fiction-books-2024', '/choiceawards/readers-favorite-historical-fiction-books-2024', '/choiceawards/readers-favorite-mystery-thriller-books-2024', '/choiceawards/readers-favorite-romance-books-2024', '/choiceawards/readers-favorite-romantasy-books-2024', '/choiceawards/readers-favorite-fantasy-books-2024', '/choiceawards/readers-favorite-science-fiction-books-2024', '/choiceawards/readers-favorite-horror-books-2024', '/choiceawards/readers-favorite-debut-novel-2024', '/choiceawards/readers-favorite-audio-books-2024', '/choiceawards/readers-favorite-ya-fantasy-books-2024', '/choiceawards/readers-favorite-ya-fiction-books-2024', '/choiceawards/readers-favorite-nonfiction-books-2024', '/choiceawards/readers-favorite-memoir-books-2024', '/choiceawards/readers-favorite-history-bio-books-2024', '/choiceawards/best-fiction-books-2023', '/choiceawards/best-historical-fiction-books-2023', '/choiceawards/best-mystery-thriller-books-2023', '/choiceawards/best-romance-books-2023', '/choiceawards/best-romantasy-books-2023', '/choiceawards/best-fantasy-books-2023', '/choiceawards/best-science-fiction-books-2023', '/choiceawards/best-horror-books-2023', '/choiceawards/best-young-adult-fantasy-books-2023', '/choiceawards/best-young-adult-fiction-books-2023', '/choiceawards/best-debut-novel-2023', '/choiceawards/best-nonfiction-books-2023', '/choiceawards/best-memoir-autobiography-books-2023', '/choiceawards/best-history-biography-books-2023', '/choiceawards/best-humor-books-2023', '/choiceawards/best-fiction-books-2022', '/choiceawards/best-mystery-thriller-books-2022', '/choiceawards/best-historical-fiction-books-2022', '/choiceawards/best-fantasy-books-2022', '/choiceawards/best-romance-books-2022', '/choiceawards/best-science-fiction-books-2022', '/choiceawards/best-horror-books-2022', '/choiceawards/best-humor-books-2022', '/choiceawards/best-nonfiction-books-2022', '/choiceawards/best-memoir-autobiography-books-2022', '/choiceawards/best-history-biography-books-2022', '/choiceawards/best-graphic-novels-comics-2022', '/choiceawards/best-poetry-books-2022', '/choiceawards/best-debut-novel-2022', '/choiceawards/best-young-adult-fiction-books-2022', '/choiceawards/best-young-adult-fantasy-books-2022', '/choiceawards/best-childrens-books-2022', '/choiceawards/best-fiction-books-2021', '/choiceawards/best-mystery-thriller-books-2021', '/choiceawards/best-historical-fiction-books-2021', '/choiceawards/best-fantasy-books-2021', '/choiceawards/best-romance-books-2021', '/choiceawards/best-science-fiction-books-2021', '/choiceawards/best-horror-books-2021', '/choiceawards/best-humor-books-2021', '/choiceawards/best-nonfiction-books-2021', '/choiceawards/best-memoir-autobiography-books-2021', '/choiceawards/best-history-biography-books-2021', '/choiceawards/best-graphic-novels-comics-2021', '/choiceawards/best-poetry-books-2021', '/choiceawards/best-debut-novel-2021', '/choiceawards/best-young-adult-fiction-books-2021', '/choiceawards/best-young-adult-fantasy-books-2021', '/choiceawards/best-childrens-books-2021', '/choiceawards/best-fiction-books-2020', '/choiceawards/best-mystery-thriller-books-2020', '/choiceawards/best-historical-fiction-books-2020', '/choiceawards/best-fantasy-books-2020', '/choiceawards/best-romance-books-2020', '/choiceawards/best-science-fiction-books-2020', '/choiceawards/best-horror-books-2020', '/choiceawards/best-humor-books-2020', '/choiceawards/best-nonfiction-books-2020', '/choiceawards/best-memoir-autobiography-books-2020', '/choiceawards/best-history-biography-books-2020', '/choiceawards/best-science-technology-books-2020', '/choiceawards/best-food-cookbooks-2020', '/choiceawards/best-graphic-novels-comics-2020', '/choiceawards/best-poetry-books-2020', '/choiceawards/best-debut-novel-2020', '/choiceawards/best-young-adult-fiction-books-2020', '/choiceawards/best-young-adult-fantasy-books-2020', '/choiceawards/best-childrens-books-2020', '/choiceawards/best-picture-books-2020', '/choiceawards/best-fiction-books-2019', '/choiceawards/best-mystery-thriller-books-2019', '/choiceawards/best-historical-fiction-books-2019', '/choiceawards/best-fantasy-books-2019', '/choiceawards/best-romance-books-2019', '/choiceawards/best-science-fiction-books-2019', '/choiceawards/best-horror-books-2019', '/choiceawards/best-humor-books-2019', '/choiceawards/best-nonfiction-books-2019', '/choiceawards/best-memoir-autobiography-books-2019', '/choiceawards/best-history-biography-books-2019', '/choiceawards/best-science-technology-books-2019', '/choiceawards/best-food-cookbooks-2019', '/choiceawards/best-graphic-novels-comics-2019', '/choiceawards/best-poetry-books-2019', '/choiceawards/best-debut-novel-2019', '/choiceawards/best-young-adult-fiction-books-2019', '/choiceawards/best-young-adult-fantasy-books-2019', '/choiceawards/best-childrens-books-2019', '/choiceawards/best-picture-books-2019', '/choiceawards/best-fiction-books-2018', '/choiceawards/best-mystery-thriller-books-2018', '/choiceawards/best-historical-fiction-books-2018', '/choiceawards/best-fantasy-books-2018', '/choiceawards/best-of-the-best-2018', '/choiceawards/best-romance-books-2018', '/choiceawards/best-science-fiction-books-2018', '/choiceawards/best-horror-books-2018', '/choiceawards/best-humor-books-2018', '/choiceawards/best-nonfiction-books-2018', '/choiceawards/best-memoir-autobiography-books-2018', '/choiceawards/best-history-biography-books-2018', '/choiceawards/best-science-technology-books-2018', '/choiceawards/best-food-cookbooks-2018', '/choiceawards/best-graphic-novels-comics-2018', '/choiceawards/best-poetry-books-2018', '/choiceawards/best-debut-author-2018', '/choiceawards/best-young-adult-fiction-books-2018', '/choiceawards/best-young-adult-fantasy-books-2018', '/choiceawards/best-childrens-books-2018', '/choiceawards/best-picture-books-2018', '/choiceawards/best-fiction-books-2017', '/choiceawards/best-mystery-thriller-books-2017', '/choiceawards/best-historical-fiction-books-2017', '/choiceawards/best-fantasy-books-2017', '/choiceawards/best-romance-books-2017', '/choiceawards/best-science-fiction-books-2017', '/choiceawards/best-horror-books-2017', '/choiceawards/best-humor-books-2017', '/choiceawards/best-nonfiction-books-2017', '/choiceawards/best-memoir-autobiography-books-2017', '/choiceawards/best-history-biography-books-2017', '/choiceawards/best-science-technology-books-2017', '/choiceawards/best-food-cookbooks-2017', '/choiceawards/best-graphic-novels-comics-2017', '/choiceawards/best-poetry-books-2017', '/choiceawards/best-debut-goodreads-author-2017', '/choiceawards/best-young-adult-fiction-books-2017', '/choiceawards/best-young-adult-fantasy-books-2017', '/choiceawards/best-childrens-books-2017', '/choiceawards/best-picture-books-2017', '/choiceawards/best-fiction-books-2016', '/choiceawards/best-mystery-thriller-books-2016', '/choiceawards/best-historical-fiction-books-2016', '/choiceawards/best-fantasy-books-2016', '/choiceawards/best-romance-books-2016', '/choiceawards/best-science-fiction-books-2016', '/choiceawards/best-horror-books-2016', '/choiceawards/best-humor-books-2016', '/choiceawards/best-nonfiction-books-2016', '/choiceawards/best-memoir-autobiography-books-2016', '/choiceawards/best-history-biography-books-2016', '/choiceawards/best-science-technology-books-2016', '/choiceawards/best-food-cookbooks-2016', '/choiceawards/best-graphic-novels-comics-2016', '/choiceawards/best-poetry-books-2016', '/choiceawards/best-debut-goodreads-author-2016', '/choiceawards/best-young-adult-fiction-books-2016', '/choiceawards/best-young-adult-fantasy-books-2016', '/choiceawards/best-childrens-books-2016', '/choiceawards/best-picture-books-2016', '/choiceawards/best-fiction-books-2015', '/choiceawards/best-mystery-thriller-books-2015', '/choiceawards/best-historical-fiction-books-2015', '/choiceawards/best-fantasy-books-2015', '/choiceawards/best-romance-books-2015', '/choiceawards/best-science-fiction-books-2015', '/choiceawards/best-horror-books-2015', '/choiceawards/best-humor-books-2015', '/choiceawards/best-nonfiction-books-2015', '/choiceawards/best-memoir-autobiography-books-2015', '/choiceawards/best-history-biography-books-2015', '/choiceawards/best-science-technology-books-2015', '/choiceawards/best-food-cookbooks-2015', '/choiceawards/best-graphic-novels-comics-2015', '/choiceawards/best-poetry-books-2015', '/choiceawards/best-debut-goodreads-author-2015', '/choiceawards/best-young-adult-fiction-books-2015', '/choiceawards/best-young-adult-fantasy-books-2015', '/choiceawards/best-childrens-books-2015', '/choiceawards/best-picture-books-2015', '/choiceawards/best-fiction-books-2014', '/choiceawards/best-mystery-thriller-books-2014', '/choiceawards/best-historical-fiction-books-2014', '/choiceawards/best-fantasy-books-2014', '/choiceawards/best-romance-books-2014', '/choiceawards/best-science-fiction-books-2014', '/choiceawards/best-horror-books-2014', '/choiceawards/best-humor-books-2014', '/choiceawards/best-nonfiction-books-2014', '/choiceawards/best-memoir-autobiography-books-2014', '/choiceawards/best-history-biography-books-2014', '/choiceawards/best-business-books-2014', '/choiceawards/best-food-cookbooks-2014', '/choiceawards/best-graphic-novels-comics-2014', '/choiceawards/best-poetry-books-2014', '/choiceawards/best-debut-goodreads-author-2014', '/choiceawards/best-young-adult-fiction-books-2014', '/choiceawards/best-young-adult-fantasy-books-2014', '/choiceawards/best-childrens-books-2014', '/choiceawards/best-picture-books-2014', '/choiceawards/best-fiction-books-2013', '/choiceawards/best-mystery-thriller-books-2013', '/choiceawards/best-historical-fiction-books-2013', '/choiceawards/best-fantasy-books-2013', '/choiceawards/best-paranormal-fantasy-books-2013', '/choiceawards/best-science-fiction-books-2013', '/choiceawards/best-romance-books-2013', '/choiceawards/best-horror-books-2013', '/choiceawards/best-memoir-autobiography-books-2013', '/choiceawards/best-history-biography-books-2013', '/choiceawards/best-nonfiction-books-2013', '/choiceawards/best-food-cookbooks-2013', '/choiceawards/best-humor-books-2013', '/choiceawards/best-graphic-novels-comics-2013', '/choiceawards/best-poetry-books-2013', '/choiceawards/best-debut-goodreads-author-2013', '/choiceawards/best-young-adult-fiction-books-2013', '/choiceawards/best-young-adult-fantasy-books-2013', '/choiceawards/best-childrens-books-2013', '/choiceawards/best-picture-books-2013', '/choiceawards/best-fiction-books-2012', '/choiceawards/best-mystery-thriller-books-2012', '/choiceawards/best-historical-fiction-books-2012', '/choiceawards/best-fantasy-books-2012', '/choiceawards/best-paranormal-fantasy-books-2012', '/choiceawards/best-science-fiction-books-2012', '/choiceawards/best-romance-books-2012', '/choiceawards/best-horror-books-2012', '/choiceawards/best-memoir-autobiography-books-2012', '/choiceawards/best-history-biography-books-2012', '/choiceawards/best-nonfiction-books-2012', '/choiceawards/best-food-cookbooks-2012', '/choiceawards/best-humor-books-2012', '/choiceawards/best-graphic-novels-comics-2012', '/choiceawards/best-poetry-books-2012', '/choiceawards/best-goodreads-author-2012', '/choiceawards/best-young-adult-fiction-books-2012', '/choiceawards/best-young-adult-fantasy-books-2012', '/choiceawards/best-childrens-books-2012', '/choiceawards/best-picture-books-2012', '/choiceawards/favorite-book-of-2011', '/choiceawards/best-fiction-books-2011', '/choiceawards/best-mystery-thriller-books-2011', '/choiceawards/best-historical-fiction-books-2011', '/choiceawards/best-fantasy-books-2011', '/choiceawards/best-paranormal-fantasy-books-2011', '/choiceawards/best-science-fiction-books-2011', '/choiceawards/best-horror-books-2011', '/choiceawards/best-romance-books-2011', '/choiceawards/best-humor-books-2011', '/choiceawards/best-nonfiction-books-2011', '/choiceawards/best-history-biography-books-2011', '/choiceawards/best-memoir-autobiography-books-2011', '/choiceawards/best-food-cooking-books-2011', '/choiceawards/best-travel-outdoors-books-2011', '/choiceawards/best-young-adult-fiction-books-2011', '/choiceawards/best-young-adult-fantasy-books-2011', '/choiceawards/best-childrens-books-2011', '/choiceawards/best-picture-books-2011', '/choiceawards/best-graphic-novels-comics-2011', '/choiceawards/best-poetry-books-2011', '/choiceawards/best-goodreads-author-2011']\n"
          ]
        }
      ]
    },
    {
      "cell_type": "code",
      "source": [
        "category_list = [\"https://www.goodreads.com\"+ls for ls in all_cat_links]\n",
        "print(category_list)"
      ],
      "metadata": {
        "colab": {
          "base_uri": "https://localhost:8080/"
        },
        "id": "dArPzWko-CY8",
        "outputId": "7b05758a-3dec-4222-90b2-827b1b1d16d4"
      },
      "execution_count": null,
      "outputs": [
        {
          "output_type": "stream",
          "name": "stdout",
          "text": [
            "['https://www.goodreads.com/choiceawards/readers-favorite-fiction-books-2024', 'https://www.goodreads.com/choiceawards/readers-favorite-historical-fiction-books-2024', 'https://www.goodreads.com/choiceawards/readers-favorite-mystery-thriller-books-2024', 'https://www.goodreads.com/choiceawards/readers-favorite-romance-books-2024', 'https://www.goodreads.com/choiceawards/readers-favorite-romantasy-books-2024', 'https://www.goodreads.com/choiceawards/readers-favorite-fantasy-books-2024', 'https://www.goodreads.com/choiceawards/readers-favorite-science-fiction-books-2024', 'https://www.goodreads.com/choiceawards/readers-favorite-horror-books-2024', 'https://www.goodreads.com/choiceawards/readers-favorite-debut-novel-2024', 'https://www.goodreads.com/choiceawards/readers-favorite-audio-books-2024', 'https://www.goodreads.com/choiceawards/readers-favorite-ya-fantasy-books-2024', 'https://www.goodreads.com/choiceawards/readers-favorite-ya-fiction-books-2024', 'https://www.goodreads.com/choiceawards/readers-favorite-nonfiction-books-2024', 'https://www.goodreads.com/choiceawards/readers-favorite-memoir-books-2024', 'https://www.goodreads.com/choiceawards/readers-favorite-history-bio-books-2024', 'https://www.goodreads.com/choiceawards/best-fiction-books-2023', 'https://www.goodreads.com/choiceawards/best-historical-fiction-books-2023', 'https://www.goodreads.com/choiceawards/best-mystery-thriller-books-2023', 'https://www.goodreads.com/choiceawards/best-romance-books-2023', 'https://www.goodreads.com/choiceawards/best-romantasy-books-2023', 'https://www.goodreads.com/choiceawards/best-fantasy-books-2023', 'https://www.goodreads.com/choiceawards/best-science-fiction-books-2023', 'https://www.goodreads.com/choiceawards/best-horror-books-2023', 'https://www.goodreads.com/choiceawards/best-young-adult-fantasy-books-2023', 'https://www.goodreads.com/choiceawards/best-young-adult-fiction-books-2023', 'https://www.goodreads.com/choiceawards/best-debut-novel-2023', 'https://www.goodreads.com/choiceawards/best-nonfiction-books-2023', 'https://www.goodreads.com/choiceawards/best-memoir-autobiography-books-2023', 'https://www.goodreads.com/choiceawards/best-history-biography-books-2023', 'https://www.goodreads.com/choiceawards/best-humor-books-2023', 'https://www.goodreads.com/choiceawards/best-fiction-books-2022', 'https://www.goodreads.com/choiceawards/best-mystery-thriller-books-2022', 'https://www.goodreads.com/choiceawards/best-historical-fiction-books-2022', 'https://www.goodreads.com/choiceawards/best-fantasy-books-2022', 'https://www.goodreads.com/choiceawards/best-romance-books-2022', 'https://www.goodreads.com/choiceawards/best-science-fiction-books-2022', 'https://www.goodreads.com/choiceawards/best-horror-books-2022', 'https://www.goodreads.com/choiceawards/best-humor-books-2022', 'https://www.goodreads.com/choiceawards/best-nonfiction-books-2022', 'https://www.goodreads.com/choiceawards/best-memoir-autobiography-books-2022', 'https://www.goodreads.com/choiceawards/best-history-biography-books-2022', 'https://www.goodreads.com/choiceawards/best-graphic-novels-comics-2022', 'https://www.goodreads.com/choiceawards/best-poetry-books-2022', 'https://www.goodreads.com/choiceawards/best-debut-novel-2022', 'https://www.goodreads.com/choiceawards/best-young-adult-fiction-books-2022', 'https://www.goodreads.com/choiceawards/best-young-adult-fantasy-books-2022', 'https://www.goodreads.com/choiceawards/best-childrens-books-2022', 'https://www.goodreads.com/choiceawards/best-fiction-books-2021', 'https://www.goodreads.com/choiceawards/best-mystery-thriller-books-2021', 'https://www.goodreads.com/choiceawards/best-historical-fiction-books-2021', 'https://www.goodreads.com/choiceawards/best-fantasy-books-2021', 'https://www.goodreads.com/choiceawards/best-romance-books-2021', 'https://www.goodreads.com/choiceawards/best-science-fiction-books-2021', 'https://www.goodreads.com/choiceawards/best-horror-books-2021', 'https://www.goodreads.com/choiceawards/best-humor-books-2021', 'https://www.goodreads.com/choiceawards/best-nonfiction-books-2021', 'https://www.goodreads.com/choiceawards/best-memoir-autobiography-books-2021', 'https://www.goodreads.com/choiceawards/best-history-biography-books-2021', 'https://www.goodreads.com/choiceawards/best-graphic-novels-comics-2021', 'https://www.goodreads.com/choiceawards/best-poetry-books-2021', 'https://www.goodreads.com/choiceawards/best-debut-novel-2021', 'https://www.goodreads.com/choiceawards/best-young-adult-fiction-books-2021', 'https://www.goodreads.com/choiceawards/best-young-adult-fantasy-books-2021', 'https://www.goodreads.com/choiceawards/best-childrens-books-2021', 'https://www.goodreads.com/choiceawards/best-fiction-books-2020', 'https://www.goodreads.com/choiceawards/best-mystery-thriller-books-2020', 'https://www.goodreads.com/choiceawards/best-historical-fiction-books-2020', 'https://www.goodreads.com/choiceawards/best-fantasy-books-2020', 'https://www.goodreads.com/choiceawards/best-romance-books-2020', 'https://www.goodreads.com/choiceawards/best-science-fiction-books-2020', 'https://www.goodreads.com/choiceawards/best-horror-books-2020', 'https://www.goodreads.com/choiceawards/best-humor-books-2020', 'https://www.goodreads.com/choiceawards/best-nonfiction-books-2020', 'https://www.goodreads.com/choiceawards/best-memoir-autobiography-books-2020', 'https://www.goodreads.com/choiceawards/best-history-biography-books-2020', 'https://www.goodreads.com/choiceawards/best-science-technology-books-2020', 'https://www.goodreads.com/choiceawards/best-food-cookbooks-2020', 'https://www.goodreads.com/choiceawards/best-graphic-novels-comics-2020', 'https://www.goodreads.com/choiceawards/best-poetry-books-2020', 'https://www.goodreads.com/choiceawards/best-debut-novel-2020', 'https://www.goodreads.com/choiceawards/best-young-adult-fiction-books-2020', 'https://www.goodreads.com/choiceawards/best-young-adult-fantasy-books-2020', 'https://www.goodreads.com/choiceawards/best-childrens-books-2020', 'https://www.goodreads.com/choiceawards/best-picture-books-2020', 'https://www.goodreads.com/choiceawards/best-fiction-books-2019', 'https://www.goodreads.com/choiceawards/best-mystery-thriller-books-2019', 'https://www.goodreads.com/choiceawards/best-historical-fiction-books-2019', 'https://www.goodreads.com/choiceawards/best-fantasy-books-2019', 'https://www.goodreads.com/choiceawards/best-romance-books-2019', 'https://www.goodreads.com/choiceawards/best-science-fiction-books-2019', 'https://www.goodreads.com/choiceawards/best-horror-books-2019', 'https://www.goodreads.com/choiceawards/best-humor-books-2019', 'https://www.goodreads.com/choiceawards/best-nonfiction-books-2019', 'https://www.goodreads.com/choiceawards/best-memoir-autobiography-books-2019', 'https://www.goodreads.com/choiceawards/best-history-biography-books-2019', 'https://www.goodreads.com/choiceawards/best-science-technology-books-2019', 'https://www.goodreads.com/choiceawards/best-food-cookbooks-2019', 'https://www.goodreads.com/choiceawards/best-graphic-novels-comics-2019', 'https://www.goodreads.com/choiceawards/best-poetry-books-2019', 'https://www.goodreads.com/choiceawards/best-debut-novel-2019', 'https://www.goodreads.com/choiceawards/best-young-adult-fiction-books-2019', 'https://www.goodreads.com/choiceawards/best-young-adult-fantasy-books-2019', 'https://www.goodreads.com/choiceawards/best-childrens-books-2019', 'https://www.goodreads.com/choiceawards/best-picture-books-2019', 'https://www.goodreads.com/choiceawards/best-fiction-books-2018', 'https://www.goodreads.com/choiceawards/best-mystery-thriller-books-2018', 'https://www.goodreads.com/choiceawards/best-historical-fiction-books-2018', 'https://www.goodreads.com/choiceawards/best-fantasy-books-2018', 'https://www.goodreads.com/choiceawards/best-of-the-best-2018', 'https://www.goodreads.com/choiceawards/best-romance-books-2018', 'https://www.goodreads.com/choiceawards/best-science-fiction-books-2018', 'https://www.goodreads.com/choiceawards/best-horror-books-2018', 'https://www.goodreads.com/choiceawards/best-humor-books-2018', 'https://www.goodreads.com/choiceawards/best-nonfiction-books-2018', 'https://www.goodreads.com/choiceawards/best-memoir-autobiography-books-2018', 'https://www.goodreads.com/choiceawards/best-history-biography-books-2018', 'https://www.goodreads.com/choiceawards/best-science-technology-books-2018', 'https://www.goodreads.com/choiceawards/best-food-cookbooks-2018', 'https://www.goodreads.com/choiceawards/best-graphic-novels-comics-2018', 'https://www.goodreads.com/choiceawards/best-poetry-books-2018', 'https://www.goodreads.com/choiceawards/best-debut-author-2018', 'https://www.goodreads.com/choiceawards/best-young-adult-fiction-books-2018', 'https://www.goodreads.com/choiceawards/best-young-adult-fantasy-books-2018', 'https://www.goodreads.com/choiceawards/best-childrens-books-2018', 'https://www.goodreads.com/choiceawards/best-picture-books-2018', 'https://www.goodreads.com/choiceawards/best-fiction-books-2017', 'https://www.goodreads.com/choiceawards/best-mystery-thriller-books-2017', 'https://www.goodreads.com/choiceawards/best-historical-fiction-books-2017', 'https://www.goodreads.com/choiceawards/best-fantasy-books-2017', 'https://www.goodreads.com/choiceawards/best-romance-books-2017', 'https://www.goodreads.com/choiceawards/best-science-fiction-books-2017', 'https://www.goodreads.com/choiceawards/best-horror-books-2017', 'https://www.goodreads.com/choiceawards/best-humor-books-2017', 'https://www.goodreads.com/choiceawards/best-nonfiction-books-2017', 'https://www.goodreads.com/choiceawards/best-memoir-autobiography-books-2017', 'https://www.goodreads.com/choiceawards/best-history-biography-books-2017', 'https://www.goodreads.com/choiceawards/best-science-technology-books-2017', 'https://www.goodreads.com/choiceawards/best-food-cookbooks-2017', 'https://www.goodreads.com/choiceawards/best-graphic-novels-comics-2017', 'https://www.goodreads.com/choiceawards/best-poetry-books-2017', 'https://www.goodreads.com/choiceawards/best-debut-goodreads-author-2017', 'https://www.goodreads.com/choiceawards/best-young-adult-fiction-books-2017', 'https://www.goodreads.com/choiceawards/best-young-adult-fantasy-books-2017', 'https://www.goodreads.com/choiceawards/best-childrens-books-2017', 'https://www.goodreads.com/choiceawards/best-picture-books-2017', 'https://www.goodreads.com/choiceawards/best-fiction-books-2016', 'https://www.goodreads.com/choiceawards/best-mystery-thriller-books-2016', 'https://www.goodreads.com/choiceawards/best-historical-fiction-books-2016', 'https://www.goodreads.com/choiceawards/best-fantasy-books-2016', 'https://www.goodreads.com/choiceawards/best-romance-books-2016', 'https://www.goodreads.com/choiceawards/best-science-fiction-books-2016', 'https://www.goodreads.com/choiceawards/best-horror-books-2016', 'https://www.goodreads.com/choiceawards/best-humor-books-2016', 'https://www.goodreads.com/choiceawards/best-nonfiction-books-2016', 'https://www.goodreads.com/choiceawards/best-memoir-autobiography-books-2016', 'https://www.goodreads.com/choiceawards/best-history-biography-books-2016', 'https://www.goodreads.com/choiceawards/best-science-technology-books-2016', 'https://www.goodreads.com/choiceawards/best-food-cookbooks-2016', 'https://www.goodreads.com/choiceawards/best-graphic-novels-comics-2016', 'https://www.goodreads.com/choiceawards/best-poetry-books-2016', 'https://www.goodreads.com/choiceawards/best-debut-goodreads-author-2016', 'https://www.goodreads.com/choiceawards/best-young-adult-fiction-books-2016', 'https://www.goodreads.com/choiceawards/best-young-adult-fantasy-books-2016', 'https://www.goodreads.com/choiceawards/best-childrens-books-2016', 'https://www.goodreads.com/choiceawards/best-picture-books-2016', 'https://www.goodreads.com/choiceawards/best-fiction-books-2015', 'https://www.goodreads.com/choiceawards/best-mystery-thriller-books-2015', 'https://www.goodreads.com/choiceawards/best-historical-fiction-books-2015', 'https://www.goodreads.com/choiceawards/best-fantasy-books-2015', 'https://www.goodreads.com/choiceawards/best-romance-books-2015', 'https://www.goodreads.com/choiceawards/best-science-fiction-books-2015', 'https://www.goodreads.com/choiceawards/best-horror-books-2015', 'https://www.goodreads.com/choiceawards/best-humor-books-2015', 'https://www.goodreads.com/choiceawards/best-nonfiction-books-2015', 'https://www.goodreads.com/choiceawards/best-memoir-autobiography-books-2015', 'https://www.goodreads.com/choiceawards/best-history-biography-books-2015', 'https://www.goodreads.com/choiceawards/best-science-technology-books-2015', 'https://www.goodreads.com/choiceawards/best-food-cookbooks-2015', 'https://www.goodreads.com/choiceawards/best-graphic-novels-comics-2015', 'https://www.goodreads.com/choiceawards/best-poetry-books-2015', 'https://www.goodreads.com/choiceawards/best-debut-goodreads-author-2015', 'https://www.goodreads.com/choiceawards/best-young-adult-fiction-books-2015', 'https://www.goodreads.com/choiceawards/best-young-adult-fantasy-books-2015', 'https://www.goodreads.com/choiceawards/best-childrens-books-2015', 'https://www.goodreads.com/choiceawards/best-picture-books-2015', 'https://www.goodreads.com/choiceawards/best-fiction-books-2014', 'https://www.goodreads.com/choiceawards/best-mystery-thriller-books-2014', 'https://www.goodreads.com/choiceawards/best-historical-fiction-books-2014', 'https://www.goodreads.com/choiceawards/best-fantasy-books-2014', 'https://www.goodreads.com/choiceawards/best-romance-books-2014', 'https://www.goodreads.com/choiceawards/best-science-fiction-books-2014', 'https://www.goodreads.com/choiceawards/best-horror-books-2014', 'https://www.goodreads.com/choiceawards/best-humor-books-2014', 'https://www.goodreads.com/choiceawards/best-nonfiction-books-2014', 'https://www.goodreads.com/choiceawards/best-memoir-autobiography-books-2014', 'https://www.goodreads.com/choiceawards/best-history-biography-books-2014', 'https://www.goodreads.com/choiceawards/best-business-books-2014', 'https://www.goodreads.com/choiceawards/best-food-cookbooks-2014', 'https://www.goodreads.com/choiceawards/best-graphic-novels-comics-2014', 'https://www.goodreads.com/choiceawards/best-poetry-books-2014', 'https://www.goodreads.com/choiceawards/best-debut-goodreads-author-2014', 'https://www.goodreads.com/choiceawards/best-young-adult-fiction-books-2014', 'https://www.goodreads.com/choiceawards/best-young-adult-fantasy-books-2014', 'https://www.goodreads.com/choiceawards/best-childrens-books-2014', 'https://www.goodreads.com/choiceawards/best-picture-books-2014', 'https://www.goodreads.com/choiceawards/best-fiction-books-2013', 'https://www.goodreads.com/choiceawards/best-mystery-thriller-books-2013', 'https://www.goodreads.com/choiceawards/best-historical-fiction-books-2013', 'https://www.goodreads.com/choiceawards/best-fantasy-books-2013', 'https://www.goodreads.com/choiceawards/best-paranormal-fantasy-books-2013', 'https://www.goodreads.com/choiceawards/best-science-fiction-books-2013', 'https://www.goodreads.com/choiceawards/best-romance-books-2013', 'https://www.goodreads.com/choiceawards/best-horror-books-2013', 'https://www.goodreads.com/choiceawards/best-memoir-autobiography-books-2013', 'https://www.goodreads.com/choiceawards/best-history-biography-books-2013', 'https://www.goodreads.com/choiceawards/best-nonfiction-books-2013', 'https://www.goodreads.com/choiceawards/best-food-cookbooks-2013', 'https://www.goodreads.com/choiceawards/best-humor-books-2013', 'https://www.goodreads.com/choiceawards/best-graphic-novels-comics-2013', 'https://www.goodreads.com/choiceawards/best-poetry-books-2013', 'https://www.goodreads.com/choiceawards/best-debut-goodreads-author-2013', 'https://www.goodreads.com/choiceawards/best-young-adult-fiction-books-2013', 'https://www.goodreads.com/choiceawards/best-young-adult-fantasy-books-2013', 'https://www.goodreads.com/choiceawards/best-childrens-books-2013', 'https://www.goodreads.com/choiceawards/best-picture-books-2013', 'https://www.goodreads.com/choiceawards/best-fiction-books-2012', 'https://www.goodreads.com/choiceawards/best-mystery-thriller-books-2012', 'https://www.goodreads.com/choiceawards/best-historical-fiction-books-2012', 'https://www.goodreads.com/choiceawards/best-fantasy-books-2012', 'https://www.goodreads.com/choiceawards/best-paranormal-fantasy-books-2012', 'https://www.goodreads.com/choiceawards/best-science-fiction-books-2012', 'https://www.goodreads.com/choiceawards/best-romance-books-2012', 'https://www.goodreads.com/choiceawards/best-horror-books-2012', 'https://www.goodreads.com/choiceawards/best-memoir-autobiography-books-2012', 'https://www.goodreads.com/choiceawards/best-history-biography-books-2012', 'https://www.goodreads.com/choiceawards/best-nonfiction-books-2012', 'https://www.goodreads.com/choiceawards/best-food-cookbooks-2012', 'https://www.goodreads.com/choiceawards/best-humor-books-2012', 'https://www.goodreads.com/choiceawards/best-graphic-novels-comics-2012', 'https://www.goodreads.com/choiceawards/best-poetry-books-2012', 'https://www.goodreads.com/choiceawards/best-goodreads-author-2012', 'https://www.goodreads.com/choiceawards/best-young-adult-fiction-books-2012', 'https://www.goodreads.com/choiceawards/best-young-adult-fantasy-books-2012', 'https://www.goodreads.com/choiceawards/best-childrens-books-2012', 'https://www.goodreads.com/choiceawards/best-picture-books-2012', 'https://www.goodreads.com/choiceawards/favorite-book-of-2011', 'https://www.goodreads.com/choiceawards/best-fiction-books-2011', 'https://www.goodreads.com/choiceawards/best-mystery-thriller-books-2011', 'https://www.goodreads.com/choiceawards/best-historical-fiction-books-2011', 'https://www.goodreads.com/choiceawards/best-fantasy-books-2011', 'https://www.goodreads.com/choiceawards/best-paranormal-fantasy-books-2011', 'https://www.goodreads.com/choiceawards/best-science-fiction-books-2011', 'https://www.goodreads.com/choiceawards/best-horror-books-2011', 'https://www.goodreads.com/choiceawards/best-romance-books-2011', 'https://www.goodreads.com/choiceawards/best-humor-books-2011', 'https://www.goodreads.com/choiceawards/best-nonfiction-books-2011', 'https://www.goodreads.com/choiceawards/best-history-biography-books-2011', 'https://www.goodreads.com/choiceawards/best-memoir-autobiography-books-2011', 'https://www.goodreads.com/choiceawards/best-food-cooking-books-2011', 'https://www.goodreads.com/choiceawards/best-travel-outdoors-books-2011', 'https://www.goodreads.com/choiceawards/best-young-adult-fiction-books-2011', 'https://www.goodreads.com/choiceawards/best-young-adult-fantasy-books-2011', 'https://www.goodreads.com/choiceawards/best-childrens-books-2011', 'https://www.goodreads.com/choiceawards/best-picture-books-2011', 'https://www.goodreads.com/choiceawards/best-graphic-novels-comics-2011', 'https://www.goodreads.com/choiceawards/best-poetry-books-2011', 'https://www.goodreads.com/choiceawards/best-goodreads-author-2011']\n"
          ]
        }
      ]
    },
    {
      "cell_type": "code",
      "source": [
        "# function to pull the link to the page for every book that was nominated for the awards\n",
        "def getCategories(url):\n",
        "    # print('Indexing {0}......'.format(url))\n",
        "    response = requests.get(url, headers=headers)\n",
        "    # result = requests.get(url)\n",
        "    # print('Url Indexed...Now pausing 50secs before next ')\n",
        "    sleep_time = random.randint(10, 19)/10\n",
        "    sleep(sleep_time)\n",
        "    return response\n",
        "\n",
        "all_book_links = []\n",
        "\n",
        "cat_results = map(getCategories, category_list)\n",
        "for result in cat_results:\n",
        "    soup = bs4.BeautifulSoup(result.content,\"html.parser\")\n",
        "    poll_content = soup.find('div', {'class': 'pollContents'}) # isolate the main content of the page (excludes nav/column)\n",
        "    links = poll_content.find_all('a', {'class': 'pollAnswer__bookLink'}, href=True) # isolate the links in the main page content\n",
        "    for a in links:\n",
        "      link_url = a['href']\n",
        "      working_url = ('https://www.goodreads.com' + link_url)\n",
        "      all_book_links.append(working_url)\n"
      ],
      "metadata": {
        "id": "eAPhgX7cKlKR"
      },
      "execution_count": null,
      "outputs": []
    },
    {
      "cell_type": "code",
      "source": [
        "# check to make sure it worked!\n",
        "print(all_book_links)"
      ],
      "metadata": {
        "id": "fw5sqPCsMiJp"
      },
      "execution_count": null,
      "outputs": []
    },
    {
      "cell_type": "code",
      "source": [
        "# check to see how many books are included in my dataset (helps make sure my scraper is working)\n",
        "book_list_length = len(all_book_links)\n",
        "print(book_list_length)"
      ],
      "metadata": {
        "colab": {
          "base_uri": "https://localhost:8080/"
        },
        "id": "FHvmOSW9K7Y0",
        "outputId": "2f069bdd-cd28-4f4b-c27d-08a389e30787"
      },
      "execution_count": null,
      "outputs": [
        {
          "output_type": "stream",
          "name": "stdout",
          "text": [
            "5336\n"
          ]
        }
      ]
    },
    {
      "cell_type": "code",
      "source": [
        "# functions for pulling specific metadata\n",
        "# function to pull the title for every book\n",
        "def get_title(soup):\n",
        "  titles = []\n",
        "  for title in soup.find('h1', {'data-testid': 'bookTitle'}):\n",
        "    current_title = title\n",
        "    if current_title.strip():\n",
        "      titlesss = str(current_title)\n",
        "      titles.append(titlesss)\n",
        "  return titles"
      ],
      "metadata": {
        "id": "pS1LIoKLCLFl"
      },
      "execution_count": null,
      "outputs": []
    },
    {
      "cell_type": "code",
      "source": [
        "# function to pull the genres or subject tag for every book\n",
        "def get_genres(soup):\n",
        "    genres = []\n",
        "    for node in soup.find_all('div', {'data-testid': 'genresList'}):\n",
        "      current_genres = node.find_all('span', {'class': 'Button__labelItem'})\n",
        "      current_genre = ', '.join([g.text for g in current_genres])\n",
        "      if current_genre.strip():\n",
        "        genres.append(current_genre)\n",
        "    return genres"
      ],
      "metadata": {
        "id": "AnAcqm9vCQpE"
      },
      "execution_count": null,
      "outputs": []
    },
    {
      "cell_type": "code",
      "source": [
        "# function to pull the description field for every book\n",
        "def get_description(soup):\n",
        "    description = []\n",
        "    for node in soup.find('div', {'data-testid': 'description'}):\n",
        "      current_descriptions = node.find_all('span', {'class': 'Formatted'})\n",
        "      current_description = ''.join([g.text for g in current_descriptions])\n",
        "      description.append(current_description)\n",
        "    return description"
      ],
      "metadata": {
        "id": "E0d5AtwJCWwi"
      },
      "execution_count": null,
      "outputs": []
    },
    {
      "cell_type": "code",
      "source": [
        "# Pulling the metadata for all nominated books into a data frame which I can save!\n",
        "# Note the sleep time in this function is randomized- helps 1) not overload goodreads' servers and 2) appear human\n",
        "# Note- This function will take a long time to get through every book\n",
        "def getBooks(url):\n",
        "    response = requests.get(url, headers=headers)\n",
        "    sleep_time = random.randint(10, 19)/10\n",
        "    sleep(sleep_time)\n",
        "    return response\n",
        "\n",
        "all_book_metadata = {}\n",
        "\n",
        "book_results = map(getBooks, all_book_links)\n",
        "for result in book_results:\n",
        "  soup = bs4.BeautifulSoup(result.content,\"html.parser\")\n",
        "  all_book_metadata.setdefault('title', []).extend(get_title(soup))\n",
        "  all_book_metadata.setdefault('description', []).extend(get_description(soup))\n",
        "  all_book_metadata.setdefault('genres', []).extend(get_genres(soup))\n",
        "  df= pd.DataFrame(all_book_metadata)"
      ],
      "metadata": {
        "id": "0kb6rY_6CYLT",
        "colab": {
          "base_uri": "https://localhost:8080/",
          "height": 365
        },
        "outputId": "c38c3db3-717a-48ab-fa0d-8a55177fd6e2"
      },
      "execution_count": null,
      "outputs": [
        {
          "output_type": "error",
          "ename": "KeyboardInterrupt",
          "evalue": "",
          "traceback": [
            "\u001b[0;31m---------------------------------------------------------------------------\u001b[0m",
            "\u001b[0;31mKeyboardInterrupt\u001b[0m                         Traceback (most recent call last)",
            "\u001b[0;32m<ipython-input-14-891baaa06866>\u001b[0m in \u001b[0;36m<cell line: 0>\u001b[0;34m()\u001b[0m\n\u001b[1;32m     11\u001b[0m \u001b[0;34m\u001b[0m\u001b[0m\n\u001b[1;32m     12\u001b[0m \u001b[0mbook_results\u001b[0m \u001b[0;34m=\u001b[0m \u001b[0mmap\u001b[0m\u001b[0;34m(\u001b[0m\u001b[0mgetBooks\u001b[0m\u001b[0;34m,\u001b[0m \u001b[0mall_book_links\u001b[0m\u001b[0;34m)\u001b[0m\u001b[0;34m\u001b[0m\u001b[0;34m\u001b[0m\u001b[0m\n\u001b[0;32m---> 13\u001b[0;31m \u001b[0;32mfor\u001b[0m \u001b[0mresult\u001b[0m \u001b[0;32min\u001b[0m \u001b[0mbook_results\u001b[0m\u001b[0;34m:\u001b[0m\u001b[0;34m\u001b[0m\u001b[0;34m\u001b[0m\u001b[0m\n\u001b[0m\u001b[1;32m     14\u001b[0m   \u001b[0msoup\u001b[0m \u001b[0;34m=\u001b[0m \u001b[0mbs4\u001b[0m\u001b[0;34m.\u001b[0m\u001b[0mBeautifulSoup\u001b[0m\u001b[0;34m(\u001b[0m\u001b[0mresult\u001b[0m\u001b[0;34m.\u001b[0m\u001b[0mcontent\u001b[0m\u001b[0;34m,\u001b[0m\u001b[0;34m\"html.parser\"\u001b[0m\u001b[0;34m)\u001b[0m\u001b[0;34m\u001b[0m\u001b[0;34m\u001b[0m\u001b[0m\n\u001b[1;32m     15\u001b[0m   \u001b[0mall_book_metadata\u001b[0m\u001b[0;34m.\u001b[0m\u001b[0msetdefault\u001b[0m\u001b[0;34m(\u001b[0m\u001b[0;34m'title'\u001b[0m\u001b[0;34m,\u001b[0m \u001b[0;34m[\u001b[0m\u001b[0;34m]\u001b[0m\u001b[0;34m)\u001b[0m\u001b[0;34m.\u001b[0m\u001b[0mextend\u001b[0m\u001b[0;34m(\u001b[0m\u001b[0mget_title\u001b[0m\u001b[0;34m(\u001b[0m\u001b[0msoup\u001b[0m\u001b[0;34m)\u001b[0m\u001b[0;34m)\u001b[0m\u001b[0;34m\u001b[0m\u001b[0;34m\u001b[0m\u001b[0m\n",
            "\u001b[0;32m<ipython-input-14-891baaa06866>\u001b[0m in \u001b[0;36mgetBooks\u001b[0;34m(url)\u001b[0m\n\u001b[1;32m      1\u001b[0m \u001b[0;32mdef\u001b[0m \u001b[0mgetBooks\u001b[0m\u001b[0;34m(\u001b[0m\u001b[0murl\u001b[0m\u001b[0;34m)\u001b[0m\u001b[0;34m:\u001b[0m\u001b[0;34m\u001b[0m\u001b[0;34m\u001b[0m\u001b[0m\n\u001b[1;32m      2\u001b[0m     \u001b[0;31m# print('Indexing {0}......'.format(url))\u001b[0m\u001b[0;34m\u001b[0m\u001b[0;34m\u001b[0m\u001b[0m\n\u001b[0;32m----> 3\u001b[0;31m     \u001b[0mresponse\u001b[0m \u001b[0;34m=\u001b[0m \u001b[0mrequests\u001b[0m\u001b[0;34m.\u001b[0m\u001b[0mget\u001b[0m\u001b[0;34m(\u001b[0m\u001b[0murl\u001b[0m\u001b[0;34m,\u001b[0m \u001b[0mheaders\u001b[0m\u001b[0;34m=\u001b[0m\u001b[0mheaders\u001b[0m\u001b[0;34m)\u001b[0m\u001b[0;34m\u001b[0m\u001b[0;34m\u001b[0m\u001b[0m\n\u001b[0m\u001b[1;32m      4\u001b[0m     \u001b[0;31m# result = requests.get(url)\u001b[0m\u001b[0;34m\u001b[0m\u001b[0;34m\u001b[0m\u001b[0m\n\u001b[1;32m      5\u001b[0m     \u001b[0;31m# print('Url Indexed...Now pausing 50secs before next ')\u001b[0m\u001b[0;34m\u001b[0m\u001b[0;34m\u001b[0m\u001b[0m\n",
            "\u001b[0;32m/usr/local/lib/python3.11/dist-packages/requests/api.py\u001b[0m in \u001b[0;36mget\u001b[0;34m(url, params, **kwargs)\u001b[0m\n\u001b[1;32m     71\u001b[0m     \"\"\"\n\u001b[1;32m     72\u001b[0m \u001b[0;34m\u001b[0m\u001b[0m\n\u001b[0;32m---> 73\u001b[0;31m     \u001b[0;32mreturn\u001b[0m \u001b[0mrequest\u001b[0m\u001b[0;34m(\u001b[0m\u001b[0;34m\"get\"\u001b[0m\u001b[0;34m,\u001b[0m \u001b[0murl\u001b[0m\u001b[0;34m,\u001b[0m \u001b[0mparams\u001b[0m\u001b[0;34m=\u001b[0m\u001b[0mparams\u001b[0m\u001b[0;34m,\u001b[0m \u001b[0;34m**\u001b[0m\u001b[0mkwargs\u001b[0m\u001b[0;34m)\u001b[0m\u001b[0;34m\u001b[0m\u001b[0;34m\u001b[0m\u001b[0m\n\u001b[0m\u001b[1;32m     74\u001b[0m \u001b[0;34m\u001b[0m\u001b[0m\n\u001b[1;32m     75\u001b[0m \u001b[0;34m\u001b[0m\u001b[0m\n",
            "\u001b[0;32m/usr/local/lib/python3.11/dist-packages/requests/api.py\u001b[0m in \u001b[0;36mrequest\u001b[0;34m(method, url, **kwargs)\u001b[0m\n\u001b[1;32m     57\u001b[0m     \u001b[0;31m# cases, and look like a memory leak in others.\u001b[0m\u001b[0;34m\u001b[0m\u001b[0;34m\u001b[0m\u001b[0m\n\u001b[1;32m     58\u001b[0m     \u001b[0;32mwith\u001b[0m \u001b[0msessions\u001b[0m\u001b[0;34m.\u001b[0m\u001b[0mSession\u001b[0m\u001b[0;34m(\u001b[0m\u001b[0;34m)\u001b[0m \u001b[0;32mas\u001b[0m \u001b[0msession\u001b[0m\u001b[0;34m:\u001b[0m\u001b[0;34m\u001b[0m\u001b[0;34m\u001b[0m\u001b[0m\n\u001b[0;32m---> 59\u001b[0;31m         \u001b[0;32mreturn\u001b[0m \u001b[0msession\u001b[0m\u001b[0;34m.\u001b[0m\u001b[0mrequest\u001b[0m\u001b[0;34m(\u001b[0m\u001b[0mmethod\u001b[0m\u001b[0;34m=\u001b[0m\u001b[0mmethod\u001b[0m\u001b[0;34m,\u001b[0m \u001b[0murl\u001b[0m\u001b[0;34m=\u001b[0m\u001b[0murl\u001b[0m\u001b[0;34m,\u001b[0m \u001b[0;34m**\u001b[0m\u001b[0mkwargs\u001b[0m\u001b[0;34m)\u001b[0m\u001b[0;34m\u001b[0m\u001b[0;34m\u001b[0m\u001b[0m\n\u001b[0m\u001b[1;32m     60\u001b[0m \u001b[0;34m\u001b[0m\u001b[0m\n\u001b[1;32m     61\u001b[0m \u001b[0;34m\u001b[0m\u001b[0m\n",
            "\u001b[0;32m/usr/local/lib/python3.11/dist-packages/requests/sessions.py\u001b[0m in \u001b[0;36mrequest\u001b[0;34m(self, method, url, params, data, headers, cookies, files, auth, timeout, allow_redirects, proxies, hooks, stream, verify, cert, json)\u001b[0m\n\u001b[1;32m    587\u001b[0m         }\n\u001b[1;32m    588\u001b[0m         \u001b[0msend_kwargs\u001b[0m\u001b[0;34m.\u001b[0m\u001b[0mupdate\u001b[0m\u001b[0;34m(\u001b[0m\u001b[0msettings\u001b[0m\u001b[0;34m)\u001b[0m\u001b[0;34m\u001b[0m\u001b[0;34m\u001b[0m\u001b[0m\n\u001b[0;32m--> 589\u001b[0;31m         \u001b[0mresp\u001b[0m \u001b[0;34m=\u001b[0m \u001b[0mself\u001b[0m\u001b[0;34m.\u001b[0m\u001b[0msend\u001b[0m\u001b[0;34m(\u001b[0m\u001b[0mprep\u001b[0m\u001b[0;34m,\u001b[0m \u001b[0;34m**\u001b[0m\u001b[0msend_kwargs\u001b[0m\u001b[0;34m)\u001b[0m\u001b[0;34m\u001b[0m\u001b[0;34m\u001b[0m\u001b[0m\n\u001b[0m\u001b[1;32m    590\u001b[0m \u001b[0;34m\u001b[0m\u001b[0m\n\u001b[1;32m    591\u001b[0m         \u001b[0;32mreturn\u001b[0m \u001b[0mresp\u001b[0m\u001b[0;34m\u001b[0m\u001b[0;34m\u001b[0m\u001b[0m\n",
            "\u001b[0;32m/usr/local/lib/python3.11/dist-packages/requests/sessions.py\u001b[0m in \u001b[0;36msend\u001b[0;34m(self, request, **kwargs)\u001b[0m\n\u001b[1;32m    701\u001b[0m \u001b[0;34m\u001b[0m\u001b[0m\n\u001b[1;32m    702\u001b[0m         \u001b[0;31m# Send the request\u001b[0m\u001b[0;34m\u001b[0m\u001b[0;34m\u001b[0m\u001b[0m\n\u001b[0;32m--> 703\u001b[0;31m         \u001b[0mr\u001b[0m \u001b[0;34m=\u001b[0m \u001b[0madapter\u001b[0m\u001b[0;34m.\u001b[0m\u001b[0msend\u001b[0m\u001b[0;34m(\u001b[0m\u001b[0mrequest\u001b[0m\u001b[0;34m,\u001b[0m \u001b[0;34m**\u001b[0m\u001b[0mkwargs\u001b[0m\u001b[0;34m)\u001b[0m\u001b[0;34m\u001b[0m\u001b[0;34m\u001b[0m\u001b[0m\n\u001b[0m\u001b[1;32m    704\u001b[0m \u001b[0;34m\u001b[0m\u001b[0m\n\u001b[1;32m    705\u001b[0m         \u001b[0;31m# Total elapsed time of the request (approximately)\u001b[0m\u001b[0;34m\u001b[0m\u001b[0;34m\u001b[0m\u001b[0m\n",
            "\u001b[0;32m/usr/local/lib/python3.11/dist-packages/requests/adapters.py\u001b[0m in \u001b[0;36msend\u001b[0;34m(self, request, stream, timeout, verify, cert, proxies)\u001b[0m\n\u001b[1;32m    665\u001b[0m \u001b[0;34m\u001b[0m\u001b[0m\n\u001b[1;32m    666\u001b[0m         \u001b[0;32mtry\u001b[0m\u001b[0;34m:\u001b[0m\u001b[0;34m\u001b[0m\u001b[0;34m\u001b[0m\u001b[0m\n\u001b[0;32m--> 667\u001b[0;31m             resp = conn.urlopen(\n\u001b[0m\u001b[1;32m    668\u001b[0m                 \u001b[0mmethod\u001b[0m\u001b[0;34m=\u001b[0m\u001b[0mrequest\u001b[0m\u001b[0;34m.\u001b[0m\u001b[0mmethod\u001b[0m\u001b[0;34m,\u001b[0m\u001b[0;34m\u001b[0m\u001b[0;34m\u001b[0m\u001b[0m\n\u001b[1;32m    669\u001b[0m                 \u001b[0murl\u001b[0m\u001b[0;34m=\u001b[0m\u001b[0murl\u001b[0m\u001b[0;34m,\u001b[0m\u001b[0;34m\u001b[0m\u001b[0;34m\u001b[0m\u001b[0m\n",
            "\u001b[0;32m/usr/local/lib/python3.11/dist-packages/urllib3/connectionpool.py\u001b[0m in \u001b[0;36murlopen\u001b[0;34m(self, method, url, body, headers, retries, redirect, assert_same_host, timeout, pool_timeout, release_conn, chunked, body_pos, preload_content, decode_content, **response_kw)\u001b[0m\n\u001b[1;32m    785\u001b[0m \u001b[0;34m\u001b[0m\u001b[0m\n\u001b[1;32m    786\u001b[0m             \u001b[0;31m# Make the request on the HTTPConnection object\u001b[0m\u001b[0;34m\u001b[0m\u001b[0;34m\u001b[0m\u001b[0m\n\u001b[0;32m--> 787\u001b[0;31m             response = self._make_request(\n\u001b[0m\u001b[1;32m    788\u001b[0m                 \u001b[0mconn\u001b[0m\u001b[0;34m,\u001b[0m\u001b[0;34m\u001b[0m\u001b[0;34m\u001b[0m\u001b[0m\n\u001b[1;32m    789\u001b[0m                 \u001b[0mmethod\u001b[0m\u001b[0;34m,\u001b[0m\u001b[0;34m\u001b[0m\u001b[0;34m\u001b[0m\u001b[0m\n",
            "\u001b[0;32m/usr/local/lib/python3.11/dist-packages/urllib3/connectionpool.py\u001b[0m in \u001b[0;36m_make_request\u001b[0;34m(self, conn, method, url, body, headers, retries, timeout, chunked, response_conn, preload_content, decode_content, enforce_content_length)\u001b[0m\n\u001b[1;32m    532\u001b[0m         \u001b[0;31m# Receive the response from the server\u001b[0m\u001b[0;34m\u001b[0m\u001b[0;34m\u001b[0m\u001b[0m\n\u001b[1;32m    533\u001b[0m         \u001b[0;32mtry\u001b[0m\u001b[0;34m:\u001b[0m\u001b[0;34m\u001b[0m\u001b[0;34m\u001b[0m\u001b[0m\n\u001b[0;32m--> 534\u001b[0;31m             \u001b[0mresponse\u001b[0m \u001b[0;34m=\u001b[0m \u001b[0mconn\u001b[0m\u001b[0;34m.\u001b[0m\u001b[0mgetresponse\u001b[0m\u001b[0;34m(\u001b[0m\u001b[0;34m)\u001b[0m\u001b[0;34m\u001b[0m\u001b[0;34m\u001b[0m\u001b[0m\n\u001b[0m\u001b[1;32m    535\u001b[0m         \u001b[0;32mexcept\u001b[0m \u001b[0;34m(\u001b[0m\u001b[0mBaseSSLError\u001b[0m\u001b[0;34m,\u001b[0m \u001b[0mOSError\u001b[0m\u001b[0;34m)\u001b[0m \u001b[0;32mas\u001b[0m \u001b[0me\u001b[0m\u001b[0;34m:\u001b[0m\u001b[0;34m\u001b[0m\u001b[0;34m\u001b[0m\u001b[0m\n\u001b[1;32m    536\u001b[0m             \u001b[0mself\u001b[0m\u001b[0;34m.\u001b[0m\u001b[0m_raise_timeout\u001b[0m\u001b[0;34m(\u001b[0m\u001b[0merr\u001b[0m\u001b[0;34m=\u001b[0m\u001b[0me\u001b[0m\u001b[0;34m,\u001b[0m \u001b[0murl\u001b[0m\u001b[0;34m=\u001b[0m\u001b[0murl\u001b[0m\u001b[0;34m,\u001b[0m \u001b[0mtimeout_value\u001b[0m\u001b[0;34m=\u001b[0m\u001b[0mread_timeout\u001b[0m\u001b[0;34m)\u001b[0m\u001b[0;34m\u001b[0m\u001b[0;34m\u001b[0m\u001b[0m\n",
            "\u001b[0;32m/usr/local/lib/python3.11/dist-packages/urllib3/connection.py\u001b[0m in \u001b[0;36mgetresponse\u001b[0;34m(self)\u001b[0m\n\u001b[1;32m    514\u001b[0m \u001b[0;34m\u001b[0m\u001b[0m\n\u001b[1;32m    515\u001b[0m         \u001b[0;31m# Get the response from http.client.HTTPConnection\u001b[0m\u001b[0;34m\u001b[0m\u001b[0;34m\u001b[0m\u001b[0m\n\u001b[0;32m--> 516\u001b[0;31m         \u001b[0mhttplib_response\u001b[0m \u001b[0;34m=\u001b[0m \u001b[0msuper\u001b[0m\u001b[0;34m(\u001b[0m\u001b[0;34m)\u001b[0m\u001b[0;34m.\u001b[0m\u001b[0mgetresponse\u001b[0m\u001b[0;34m(\u001b[0m\u001b[0;34m)\u001b[0m\u001b[0;34m\u001b[0m\u001b[0;34m\u001b[0m\u001b[0m\n\u001b[0m\u001b[1;32m    517\u001b[0m \u001b[0;34m\u001b[0m\u001b[0m\n\u001b[1;32m    518\u001b[0m         \u001b[0;32mtry\u001b[0m\u001b[0;34m:\u001b[0m\u001b[0;34m\u001b[0m\u001b[0;34m\u001b[0m\u001b[0m\n",
            "\u001b[0;32m/usr/lib/python3.11/http/client.py\u001b[0m in \u001b[0;36mgetresponse\u001b[0;34m(self)\u001b[0m\n\u001b[1;32m   1393\u001b[0m         \u001b[0;32mtry\u001b[0m\u001b[0;34m:\u001b[0m\u001b[0;34m\u001b[0m\u001b[0;34m\u001b[0m\u001b[0m\n\u001b[1;32m   1394\u001b[0m             \u001b[0;32mtry\u001b[0m\u001b[0;34m:\u001b[0m\u001b[0;34m\u001b[0m\u001b[0;34m\u001b[0m\u001b[0m\n\u001b[0;32m-> 1395\u001b[0;31m                 \u001b[0mresponse\u001b[0m\u001b[0;34m.\u001b[0m\u001b[0mbegin\u001b[0m\u001b[0;34m(\u001b[0m\u001b[0;34m)\u001b[0m\u001b[0;34m\u001b[0m\u001b[0;34m\u001b[0m\u001b[0m\n\u001b[0m\u001b[1;32m   1396\u001b[0m             \u001b[0;32mexcept\u001b[0m \u001b[0mConnectionError\u001b[0m\u001b[0;34m:\u001b[0m\u001b[0;34m\u001b[0m\u001b[0;34m\u001b[0m\u001b[0m\n\u001b[1;32m   1397\u001b[0m                 \u001b[0mself\u001b[0m\u001b[0;34m.\u001b[0m\u001b[0mclose\u001b[0m\u001b[0;34m(\u001b[0m\u001b[0;34m)\u001b[0m\u001b[0;34m\u001b[0m\u001b[0;34m\u001b[0m\u001b[0m\n",
            "\u001b[0;32m/usr/lib/python3.11/http/client.py\u001b[0m in \u001b[0;36mbegin\u001b[0;34m(self)\u001b[0m\n\u001b[1;32m    323\u001b[0m         \u001b[0;31m# read until we get a non-100 response\u001b[0m\u001b[0;34m\u001b[0m\u001b[0;34m\u001b[0m\u001b[0m\n\u001b[1;32m    324\u001b[0m         \u001b[0;32mwhile\u001b[0m \u001b[0;32mTrue\u001b[0m\u001b[0;34m:\u001b[0m\u001b[0;34m\u001b[0m\u001b[0;34m\u001b[0m\u001b[0m\n\u001b[0;32m--> 325\u001b[0;31m             \u001b[0mversion\u001b[0m\u001b[0;34m,\u001b[0m \u001b[0mstatus\u001b[0m\u001b[0;34m,\u001b[0m \u001b[0mreason\u001b[0m \u001b[0;34m=\u001b[0m \u001b[0mself\u001b[0m\u001b[0;34m.\u001b[0m\u001b[0m_read_status\u001b[0m\u001b[0;34m(\u001b[0m\u001b[0;34m)\u001b[0m\u001b[0;34m\u001b[0m\u001b[0;34m\u001b[0m\u001b[0m\n\u001b[0m\u001b[1;32m    326\u001b[0m             \u001b[0;32mif\u001b[0m \u001b[0mstatus\u001b[0m \u001b[0;34m!=\u001b[0m \u001b[0mCONTINUE\u001b[0m\u001b[0;34m:\u001b[0m\u001b[0;34m\u001b[0m\u001b[0;34m\u001b[0m\u001b[0m\n\u001b[1;32m    327\u001b[0m                 \u001b[0;32mbreak\u001b[0m\u001b[0;34m\u001b[0m\u001b[0;34m\u001b[0m\u001b[0m\n",
            "\u001b[0;32m/usr/lib/python3.11/http/client.py\u001b[0m in \u001b[0;36m_read_status\u001b[0;34m(self)\u001b[0m\n\u001b[1;32m    284\u001b[0m \u001b[0;34m\u001b[0m\u001b[0m\n\u001b[1;32m    285\u001b[0m     \u001b[0;32mdef\u001b[0m \u001b[0m_read_status\u001b[0m\u001b[0;34m(\u001b[0m\u001b[0mself\u001b[0m\u001b[0;34m)\u001b[0m\u001b[0;34m:\u001b[0m\u001b[0;34m\u001b[0m\u001b[0;34m\u001b[0m\u001b[0m\n\u001b[0;32m--> 286\u001b[0;31m         \u001b[0mline\u001b[0m \u001b[0;34m=\u001b[0m \u001b[0mstr\u001b[0m\u001b[0;34m(\u001b[0m\u001b[0mself\u001b[0m\u001b[0;34m.\u001b[0m\u001b[0mfp\u001b[0m\u001b[0;34m.\u001b[0m\u001b[0mreadline\u001b[0m\u001b[0;34m(\u001b[0m\u001b[0m_MAXLINE\u001b[0m \u001b[0;34m+\u001b[0m \u001b[0;36m1\u001b[0m\u001b[0;34m)\u001b[0m\u001b[0;34m,\u001b[0m \u001b[0;34m\"iso-8859-1\"\u001b[0m\u001b[0;34m)\u001b[0m\u001b[0;34m\u001b[0m\u001b[0;34m\u001b[0m\u001b[0m\n\u001b[0m\u001b[1;32m    287\u001b[0m         \u001b[0;32mif\u001b[0m \u001b[0mlen\u001b[0m\u001b[0;34m(\u001b[0m\u001b[0mline\u001b[0m\u001b[0;34m)\u001b[0m \u001b[0;34m>\u001b[0m \u001b[0m_MAXLINE\u001b[0m\u001b[0;34m:\u001b[0m\u001b[0;34m\u001b[0m\u001b[0;34m\u001b[0m\u001b[0m\n\u001b[1;32m    288\u001b[0m             \u001b[0;32mraise\u001b[0m \u001b[0mLineTooLong\u001b[0m\u001b[0;34m(\u001b[0m\u001b[0;34m\"status line\"\u001b[0m\u001b[0;34m)\u001b[0m\u001b[0;34m\u001b[0m\u001b[0;34m\u001b[0m\u001b[0m\n",
            "\u001b[0;32m/usr/lib/python3.11/socket.py\u001b[0m in \u001b[0;36mreadinto\u001b[0;34m(self, b)\u001b[0m\n\u001b[1;32m    716\u001b[0m         \u001b[0;32mwhile\u001b[0m \u001b[0;32mTrue\u001b[0m\u001b[0;34m:\u001b[0m\u001b[0;34m\u001b[0m\u001b[0;34m\u001b[0m\u001b[0m\n\u001b[1;32m    717\u001b[0m             \u001b[0;32mtry\u001b[0m\u001b[0;34m:\u001b[0m\u001b[0;34m\u001b[0m\u001b[0;34m\u001b[0m\u001b[0m\n\u001b[0;32m--> 718\u001b[0;31m                 \u001b[0;32mreturn\u001b[0m \u001b[0mself\u001b[0m\u001b[0;34m.\u001b[0m\u001b[0m_sock\u001b[0m\u001b[0;34m.\u001b[0m\u001b[0mrecv_into\u001b[0m\u001b[0;34m(\u001b[0m\u001b[0mb\u001b[0m\u001b[0;34m)\u001b[0m\u001b[0;34m\u001b[0m\u001b[0;34m\u001b[0m\u001b[0m\n\u001b[0m\u001b[1;32m    719\u001b[0m             \u001b[0;32mexcept\u001b[0m \u001b[0mtimeout\u001b[0m\u001b[0;34m:\u001b[0m\u001b[0;34m\u001b[0m\u001b[0;34m\u001b[0m\u001b[0m\n\u001b[1;32m    720\u001b[0m                 \u001b[0mself\u001b[0m\u001b[0;34m.\u001b[0m\u001b[0m_timeout_occurred\u001b[0m \u001b[0;34m=\u001b[0m \u001b[0;32mTrue\u001b[0m\u001b[0;34m\u001b[0m\u001b[0;34m\u001b[0m\u001b[0m\n",
            "\u001b[0;32m/usr/lib/python3.11/ssl.py\u001b[0m in \u001b[0;36mrecv_into\u001b[0;34m(self, buffer, nbytes, flags)\u001b[0m\n\u001b[1;32m   1312\u001b[0m                   \u001b[0;34m\"non-zero flags not allowed in calls to recv_into() on %s\"\u001b[0m \u001b[0;34m%\u001b[0m\u001b[0;34m\u001b[0m\u001b[0;34m\u001b[0m\u001b[0m\n\u001b[1;32m   1313\u001b[0m                   self.__class__)\n\u001b[0;32m-> 1314\u001b[0;31m             \u001b[0;32mreturn\u001b[0m \u001b[0mself\u001b[0m\u001b[0;34m.\u001b[0m\u001b[0mread\u001b[0m\u001b[0;34m(\u001b[0m\u001b[0mnbytes\u001b[0m\u001b[0;34m,\u001b[0m \u001b[0mbuffer\u001b[0m\u001b[0;34m)\u001b[0m\u001b[0;34m\u001b[0m\u001b[0;34m\u001b[0m\u001b[0m\n\u001b[0m\u001b[1;32m   1315\u001b[0m         \u001b[0;32melse\u001b[0m\u001b[0;34m:\u001b[0m\u001b[0;34m\u001b[0m\u001b[0;34m\u001b[0m\u001b[0m\n\u001b[1;32m   1316\u001b[0m             \u001b[0;32mreturn\u001b[0m \u001b[0msuper\u001b[0m\u001b[0;34m(\u001b[0m\u001b[0;34m)\u001b[0m\u001b[0;34m.\u001b[0m\u001b[0mrecv_into\u001b[0m\u001b[0;34m(\u001b[0m\u001b[0mbuffer\u001b[0m\u001b[0;34m,\u001b[0m \u001b[0mnbytes\u001b[0m\u001b[0;34m,\u001b[0m \u001b[0mflags\u001b[0m\u001b[0;34m)\u001b[0m\u001b[0;34m\u001b[0m\u001b[0;34m\u001b[0m\u001b[0m\n",
            "\u001b[0;32m/usr/lib/python3.11/ssl.py\u001b[0m in \u001b[0;36mread\u001b[0;34m(self, len, buffer)\u001b[0m\n\u001b[1;32m   1164\u001b[0m         \u001b[0;32mtry\u001b[0m\u001b[0;34m:\u001b[0m\u001b[0;34m\u001b[0m\u001b[0;34m\u001b[0m\u001b[0m\n\u001b[1;32m   1165\u001b[0m             \u001b[0;32mif\u001b[0m \u001b[0mbuffer\u001b[0m \u001b[0;32mis\u001b[0m \u001b[0;32mnot\u001b[0m \u001b[0;32mNone\u001b[0m\u001b[0;34m:\u001b[0m\u001b[0;34m\u001b[0m\u001b[0;34m\u001b[0m\u001b[0m\n\u001b[0;32m-> 1166\u001b[0;31m                 \u001b[0;32mreturn\u001b[0m \u001b[0mself\u001b[0m\u001b[0;34m.\u001b[0m\u001b[0m_sslobj\u001b[0m\u001b[0;34m.\u001b[0m\u001b[0mread\u001b[0m\u001b[0;34m(\u001b[0m\u001b[0mlen\u001b[0m\u001b[0;34m,\u001b[0m \u001b[0mbuffer\u001b[0m\u001b[0;34m)\u001b[0m\u001b[0;34m\u001b[0m\u001b[0;34m\u001b[0m\u001b[0m\n\u001b[0m\u001b[1;32m   1167\u001b[0m             \u001b[0;32melse\u001b[0m\u001b[0;34m:\u001b[0m\u001b[0;34m\u001b[0m\u001b[0;34m\u001b[0m\u001b[0m\n\u001b[1;32m   1168\u001b[0m                 \u001b[0;32mreturn\u001b[0m \u001b[0mself\u001b[0m\u001b[0;34m.\u001b[0m\u001b[0m_sslobj\u001b[0m\u001b[0;34m.\u001b[0m\u001b[0mread\u001b[0m\u001b[0;34m(\u001b[0m\u001b[0mlen\u001b[0m\u001b[0;34m)\u001b[0m\u001b[0;34m\u001b[0m\u001b[0;34m\u001b[0m\u001b[0m\n",
            "\u001b[0;31mKeyboardInterrupt\u001b[0m: "
          ]
        }
      ]
    },
    {
      "cell_type": "code",
      "source": [
        "# saving the metadata as a csv\n",
        "df.to_csv('output.csv', index=False)"
      ],
      "metadata": {
        "id": "G45IBNSZCmRZ"
      },
      "execution_count": null,
      "outputs": []
    },
    {
      "cell_type": "code",
      "source": [
        "# check that my scraper worked #1\n",
        "df.head()"
      ],
      "metadata": {
        "id": "xh-njA9FLJ_d",
        "colab": {
          "base_uri": "https://localhost:8080/",
          "height": 206
        },
        "outputId": "77c4ae52-8fd3-4b2f-bbc3-ae567964491d"
      },
      "execution_count": null,
      "outputs": [
        {
          "output_type": "execute_result",
          "data": {
            "text/plain": [
              "                                 title  \\\n",
              "0                   The Wedding People   \n",
              "1                           Intermezzo   \n",
              "2  Welcome to the Hyunam-Dong Bookshop   \n",
              "3                         Blue Sisters   \n",
              "4                      Here One Moment   \n",
              "\n",
              "                                         description  \\\n",
              "0  Alternate cover edition of ISBN 9781250899576....   \n",
              "1  An exquisitely moving story about grief, love,...   \n",
              "2  Yeongju is burned out. With her high-flying ca...   \n",
              "3  Three estranged siblings return to their famil...   \n",
              "4  \\nIf you knew your future, would you try to fi...   \n",
              "\n",
              "                                              genres  \n",
              "0  Fiction, Romance, Audiobook, Contemporary, Lit...  \n",
              "1  Fiction, Contemporary, Literary Fiction, Roman...  \n",
              "2  Contemporary, Books About Books, Audiobook, Co...  \n",
              "3  Fiction, Contemporary, Literary Fiction, Audio...  \n",
              "4  Fiction, Audiobook, Mystery, Contemporary, Thr...  "
            ],
            "text/html": [
              "\n",
              "  <div id=\"df-f4445c54-17c5-480c-9e7e-f90d14f5cd23\" class=\"colab-df-container\">\n",
              "    <div>\n",
              "<style scoped>\n",
              "    .dataframe tbody tr th:only-of-type {\n",
              "        vertical-align: middle;\n",
              "    }\n",
              "\n",
              "    .dataframe tbody tr th {\n",
              "        vertical-align: top;\n",
              "    }\n",
              "\n",
              "    .dataframe thead th {\n",
              "        text-align: right;\n",
              "    }\n",
              "</style>\n",
              "<table border=\"1\" class=\"dataframe\">\n",
              "  <thead>\n",
              "    <tr style=\"text-align: right;\">\n",
              "      <th></th>\n",
              "      <th>title</th>\n",
              "      <th>description</th>\n",
              "      <th>genres</th>\n",
              "    </tr>\n",
              "  </thead>\n",
              "  <tbody>\n",
              "    <tr>\n",
              "      <th>0</th>\n",
              "      <td>The Wedding People</td>\n",
              "      <td>Alternate cover edition of ISBN 9781250899576....</td>\n",
              "      <td>Fiction, Romance, Audiobook, Contemporary, Lit...</td>\n",
              "    </tr>\n",
              "    <tr>\n",
              "      <th>1</th>\n",
              "      <td>Intermezzo</td>\n",
              "      <td>An exquisitely moving story about grief, love,...</td>\n",
              "      <td>Fiction, Contemporary, Literary Fiction, Roman...</td>\n",
              "    </tr>\n",
              "    <tr>\n",
              "      <th>2</th>\n",
              "      <td>Welcome to the Hyunam-Dong Bookshop</td>\n",
              "      <td>Yeongju is burned out. With her high-flying ca...</td>\n",
              "      <td>Contemporary, Books About Books, Audiobook, Co...</td>\n",
              "    </tr>\n",
              "    <tr>\n",
              "      <th>3</th>\n",
              "      <td>Blue Sisters</td>\n",
              "      <td>Three estranged siblings return to their famil...</td>\n",
              "      <td>Fiction, Contemporary, Literary Fiction, Audio...</td>\n",
              "    </tr>\n",
              "    <tr>\n",
              "      <th>4</th>\n",
              "      <td>Here One Moment</td>\n",
              "      <td>\\nIf you knew your future, would you try to fi...</td>\n",
              "      <td>Fiction, Audiobook, Mystery, Contemporary, Thr...</td>\n",
              "    </tr>\n",
              "  </tbody>\n",
              "</table>\n",
              "</div>\n",
              "    <div class=\"colab-df-buttons\">\n",
              "\n",
              "  <div class=\"colab-df-container\">\n",
              "    <button class=\"colab-df-convert\" onclick=\"convertToInteractive('df-f4445c54-17c5-480c-9e7e-f90d14f5cd23')\"\n",
              "            title=\"Convert this dataframe to an interactive table.\"\n",
              "            style=\"display:none;\">\n",
              "\n",
              "  <svg xmlns=\"http://www.w3.org/2000/svg\" height=\"24px\" viewBox=\"0 -960 960 960\">\n",
              "    <path d=\"M120-120v-720h720v720H120Zm60-500h600v-160H180v160Zm220 220h160v-160H400v160Zm0 220h160v-160H400v160ZM180-400h160v-160H180v160Zm440 0h160v-160H620v160ZM180-180h160v-160H180v160Zm440 0h160v-160H620v160Z\"/>\n",
              "  </svg>\n",
              "    </button>\n",
              "\n",
              "  <style>\n",
              "    .colab-df-container {\n",
              "      display:flex;\n",
              "      gap: 12px;\n",
              "    }\n",
              "\n",
              "    .colab-df-convert {\n",
              "      background-color: #E8F0FE;\n",
              "      border: none;\n",
              "      border-radius: 50%;\n",
              "      cursor: pointer;\n",
              "      display: none;\n",
              "      fill: #1967D2;\n",
              "      height: 32px;\n",
              "      padding: 0 0 0 0;\n",
              "      width: 32px;\n",
              "    }\n",
              "\n",
              "    .colab-df-convert:hover {\n",
              "      background-color: #E2EBFA;\n",
              "      box-shadow: 0px 1px 2px rgba(60, 64, 67, 0.3), 0px 1px 3px 1px rgba(60, 64, 67, 0.15);\n",
              "      fill: #174EA6;\n",
              "    }\n",
              "\n",
              "    .colab-df-buttons div {\n",
              "      margin-bottom: 4px;\n",
              "    }\n",
              "\n",
              "    [theme=dark] .colab-df-convert {\n",
              "      background-color: #3B4455;\n",
              "      fill: #D2E3FC;\n",
              "    }\n",
              "\n",
              "    [theme=dark] .colab-df-convert:hover {\n",
              "      background-color: #434B5C;\n",
              "      box-shadow: 0px 1px 3px 1px rgba(0, 0, 0, 0.15);\n",
              "      filter: drop-shadow(0px 1px 2px rgba(0, 0, 0, 0.3));\n",
              "      fill: #FFFFFF;\n",
              "    }\n",
              "  </style>\n",
              "\n",
              "    <script>\n",
              "      const buttonEl =\n",
              "        document.querySelector('#df-f4445c54-17c5-480c-9e7e-f90d14f5cd23 button.colab-df-convert');\n",
              "      buttonEl.style.display =\n",
              "        google.colab.kernel.accessAllowed ? 'block' : 'none';\n",
              "\n",
              "      async function convertToInteractive(key) {\n",
              "        const element = document.querySelector('#df-f4445c54-17c5-480c-9e7e-f90d14f5cd23');\n",
              "        const dataTable =\n",
              "          await google.colab.kernel.invokeFunction('convertToInteractive',\n",
              "                                                    [key], {});\n",
              "        if (!dataTable) return;\n",
              "\n",
              "        const docLinkHtml = 'Like what you see? Visit the ' +\n",
              "          '<a target=\"_blank\" href=https://colab.research.google.com/notebooks/data_table.ipynb>data table notebook</a>'\n",
              "          + ' to learn more about interactive tables.';\n",
              "        element.innerHTML = '';\n",
              "        dataTable['output_type'] = 'display_data';\n",
              "        await google.colab.output.renderOutput(dataTable, element);\n",
              "        const docLink = document.createElement('div');\n",
              "        docLink.innerHTML = docLinkHtml;\n",
              "        element.appendChild(docLink);\n",
              "      }\n",
              "    </script>\n",
              "  </div>\n",
              "\n",
              "\n",
              "<div id=\"df-2308e303-50b5-4ab3-9e85-c71a1f1feac3\">\n",
              "  <button class=\"colab-df-quickchart\" onclick=\"quickchart('df-2308e303-50b5-4ab3-9e85-c71a1f1feac3')\"\n",
              "            title=\"Suggest charts\"\n",
              "            style=\"display:none;\">\n",
              "\n",
              "<svg xmlns=\"http://www.w3.org/2000/svg\" height=\"24px\"viewBox=\"0 0 24 24\"\n",
              "     width=\"24px\">\n",
              "    <g>\n",
              "        <path d=\"M19 3H5c-1.1 0-2 .9-2 2v14c0 1.1.9 2 2 2h14c1.1 0 2-.9 2-2V5c0-1.1-.9-2-2-2zM9 17H7v-7h2v7zm4 0h-2V7h2v10zm4 0h-2v-4h2v4z\"/>\n",
              "    </g>\n",
              "</svg>\n",
              "  </button>\n",
              "\n",
              "<style>\n",
              "  .colab-df-quickchart {\n",
              "      --bg-color: #E8F0FE;\n",
              "      --fill-color: #1967D2;\n",
              "      --hover-bg-color: #E2EBFA;\n",
              "      --hover-fill-color: #174EA6;\n",
              "      --disabled-fill-color: #AAA;\n",
              "      --disabled-bg-color: #DDD;\n",
              "  }\n",
              "\n",
              "  [theme=dark] .colab-df-quickchart {\n",
              "      --bg-color: #3B4455;\n",
              "      --fill-color: #D2E3FC;\n",
              "      --hover-bg-color: #434B5C;\n",
              "      --hover-fill-color: #FFFFFF;\n",
              "      --disabled-bg-color: #3B4455;\n",
              "      --disabled-fill-color: #666;\n",
              "  }\n",
              "\n",
              "  .colab-df-quickchart {\n",
              "    background-color: var(--bg-color);\n",
              "    border: none;\n",
              "    border-radius: 50%;\n",
              "    cursor: pointer;\n",
              "    display: none;\n",
              "    fill: var(--fill-color);\n",
              "    height: 32px;\n",
              "    padding: 0;\n",
              "    width: 32px;\n",
              "  }\n",
              "\n",
              "  .colab-df-quickchart:hover {\n",
              "    background-color: var(--hover-bg-color);\n",
              "    box-shadow: 0 1px 2px rgba(60, 64, 67, 0.3), 0 1px 3px 1px rgba(60, 64, 67, 0.15);\n",
              "    fill: var(--button-hover-fill-color);\n",
              "  }\n",
              "\n",
              "  .colab-df-quickchart-complete:disabled,\n",
              "  .colab-df-quickchart-complete:disabled:hover {\n",
              "    background-color: var(--disabled-bg-color);\n",
              "    fill: var(--disabled-fill-color);\n",
              "    box-shadow: none;\n",
              "  }\n",
              "\n",
              "  .colab-df-spinner {\n",
              "    border: 2px solid var(--fill-color);\n",
              "    border-color: transparent;\n",
              "    border-bottom-color: var(--fill-color);\n",
              "    animation:\n",
              "      spin 1s steps(1) infinite;\n",
              "  }\n",
              "\n",
              "  @keyframes spin {\n",
              "    0% {\n",
              "      border-color: transparent;\n",
              "      border-bottom-color: var(--fill-color);\n",
              "      border-left-color: var(--fill-color);\n",
              "    }\n",
              "    20% {\n",
              "      border-color: transparent;\n",
              "      border-left-color: var(--fill-color);\n",
              "      border-top-color: var(--fill-color);\n",
              "    }\n",
              "    30% {\n",
              "      border-color: transparent;\n",
              "      border-left-color: var(--fill-color);\n",
              "      border-top-color: var(--fill-color);\n",
              "      border-right-color: var(--fill-color);\n",
              "    }\n",
              "    40% {\n",
              "      border-color: transparent;\n",
              "      border-right-color: var(--fill-color);\n",
              "      border-top-color: var(--fill-color);\n",
              "    }\n",
              "    60% {\n",
              "      border-color: transparent;\n",
              "      border-right-color: var(--fill-color);\n",
              "    }\n",
              "    80% {\n",
              "      border-color: transparent;\n",
              "      border-right-color: var(--fill-color);\n",
              "      border-bottom-color: var(--fill-color);\n",
              "    }\n",
              "    90% {\n",
              "      border-color: transparent;\n",
              "      border-bottom-color: var(--fill-color);\n",
              "    }\n",
              "  }\n",
              "</style>\n",
              "\n",
              "  <script>\n",
              "    async function quickchart(key) {\n",
              "      const quickchartButtonEl =\n",
              "        document.querySelector('#' + key + ' button');\n",
              "      quickchartButtonEl.disabled = true;  // To prevent multiple clicks.\n",
              "      quickchartButtonEl.classList.add('colab-df-spinner');\n",
              "      try {\n",
              "        const charts = await google.colab.kernel.invokeFunction(\n",
              "            'suggestCharts', [key], {});\n",
              "      } catch (error) {\n",
              "        console.error('Error during call to suggestCharts:', error);\n",
              "      }\n",
              "      quickchartButtonEl.classList.remove('colab-df-spinner');\n",
              "      quickchartButtonEl.classList.add('colab-df-quickchart-complete');\n",
              "    }\n",
              "    (() => {\n",
              "      let quickchartButtonEl =\n",
              "        document.querySelector('#df-2308e303-50b5-4ab3-9e85-c71a1f1feac3 button');\n",
              "      quickchartButtonEl.style.display =\n",
              "        google.colab.kernel.accessAllowed ? 'block' : 'none';\n",
              "    })();\n",
              "  </script>\n",
              "</div>\n",
              "\n",
              "    </div>\n",
              "  </div>\n"
            ],
            "application/vnd.google.colaboratory.intrinsic+json": {
              "type": "dataframe",
              "variable_name": "df",
              "summary": "{\n  \"name\": \"df\",\n  \"rows\": 18,\n  \"fields\": [\n    {\n      \"column\": \"title\",\n      \"properties\": {\n        \"dtype\": \"string\",\n        \"num_unique_values\": 18,\n        \"samples\": [\n          \"The Wedding People\",\n          \"Intermezzo\",\n          \"Margo's Got Money Troubles\"\n        ],\n        \"semantic_type\": \"\",\n        \"description\": \"\"\n      }\n    },\n    {\n      \"column\": \"description\",\n      \"properties\": {\n        \"dtype\": \"string\",\n        \"num_unique_values\": 18,\n        \"samples\": [\n          \"Alternate cover edition of ISBN 9781250899576.A propulsive and uncommonly wise novel about one unexpected wedding guest and the surprising people who help her start anew.It\\u2019s a beautiful day in Newport, Rhode Island, when Phoebe Stone arrives at the grand Cornwall Inn wearing a green dress and gold heels, not a bag in sight, alone. She's immediately mistaken by everyone in the lobby for one of the wedding people, but she\\u2019s actually the only guest at the Cornwall who isn\\u2019t here for the big event. Phoebe is here because she\\u2019s dreamed of coming for years\\u2014she hoped to shuck oysters and take sunset sails with her husband, only now she\\u2019s here without him, at rock bottom, and determined to have one last decadent splurge on herself. Meanwhile, the bride has accounted for every detail and every possible disaster the weekend might yield except for, well, Phoebe and Phoebe's plan\\u2014which makes it that much more surprising when the two women can\\u2019t stop confiding in each other. In turns absurdly funny and devastatingly tender, Alison Espach\\u2019s The Wedding People is ultimately an incredibly nuanced and resonant look at the winding paths we can take to places we never imagined\\u2014and the chance encounters it sometimes takes to reroute us.\",\n          \"An exquisitely moving story about grief, love, and family\\u2014but especially love\\u2014from the global phenomenon Sally Rooney. Aside from the fact that they are brothers, Peter and Ivan Koubek seem to have little in common.Peter is a Dublin lawyer in his thirties\\u2014successful, competent, and apparently unassailable. But in the wake of their father\\u2019s death, he\\u2019s medicating himself to sleep and struggling to manage his relationships with two very different women\\u2014his enduring first love, Sylvia, and Naomi, a college student for whom life is one long joke.Ivan is a twenty-two-year-old competitive chess player. He has always seen himself as socially awkward, a loner, the antithesis of his glib elder brother. Now, in the early weeks of his bereavement, Ivan meets Margaret, an older woman emerging from her own turbulent past, and their lives become rapidly and intensely intertwined.For two grieving brothers and the people they love, this is a new interlude\\u2014a period of desire, despair, and possibility; a chance to find out how much one life might hold inside itself without breaking.\",\n          \"A bold, laugh-out-loud funny, and heartwarming story about one young woman\\u2019s attempt to navigate adulthood, new motherhood, and her meager bank account in our increasingly online world\\u2014from the PEN/Faulkner finalist and critically acclaimed author of The Knockout Queen. As the child of a Hooters waitress and an ex-pro wrestler, Margo Millet's always known she\\u2019d have to make it on her own. So she enrolls at her local junior college, even though she can\\u2019t imagine how she\\u2019ll ever make a living. She\\u2019s still figuring things out and never planned to have an affair with her English professor\\u2014and while the affair is brief, it isn\\u2019t brief enough to keep her from getting pregnant. Despite everyone\\u2019s advice, she decides to keep the baby, mostly out of naivet\\u00e9 and a yearning for something bigger. Now, at twenty, Margo is alone with an infant, unemployed, and on the verge of eviction. She needs a cash infusion\\u2014fast. When her estranged father, Jinx, shows up on her doorstep and asks to move in with her, she agrees in exchange for help with childcare. Then Margo begins to form a plan: she\\u2019ll start an OnlyFans as an experiment, and soon finds herself adapting some of Jinx\\u2019s advice from the world of wrestling. Like how to craft a compelling character and make your audience fall in love with you. Before she knows it, she\\u2019s turned it into a runaway success. Could this be the answer to all of Margo\\u2019s problems, or does internet fame come with too high a price? Blisteringly funny and filled with sharp insight, Margo\\u2019s Got Money Troubles is a tender tale starring an endearing young heroine who\\u2019s struggling to wrest money and power from a world that has little interest in giving it to her. It\\u2019s a playful and honest examination of the art of storytelling and controlling your own narrative, and an empowering portrait of coming into your own, both online and off.\"\n        ],\n        \"semantic_type\": \"\",\n        \"description\": \"\"\n      }\n    },\n    {\n      \"column\": \"genres\",\n      \"properties\": {\n        \"dtype\": \"string\",\n        \"num_unique_values\": 18,\n        \"samples\": [\n          \"Fiction, Romance, Audiobook, Contemporary, Literary Fiction, Chick Lit, Humor, ...more\",\n          \"Fiction, Contemporary, Literary Fiction, Romance, Audiobook, Ireland, Irish Literature, ...more\",\n          \"Fiction, Audiobook, Contemporary, Literary Fiction, Humor, Adult, Chick Lit, ...more\"\n        ],\n        \"semantic_type\": \"\",\n        \"description\": \"\"\n      }\n    }\n  ]\n}"
            }
          },
          "metadata": {},
          "execution_count": 16
        }
      ]
    },
    {
      "cell_type": "code",
      "source": [
        "# check that my scraper worked #2\n",
        "df.info()"
      ],
      "metadata": {
        "id": "c61egZd9LYYv",
        "colab": {
          "base_uri": "https://localhost:8080/"
        },
        "outputId": "3a29c5e2-9e90-4978-c7db-c3065a5119f8"
      },
      "execution_count": null,
      "outputs": [
        {
          "output_type": "stream",
          "name": "stdout",
          "text": [
            "<class 'pandas.core.frame.DataFrame'>\n",
            "RangeIndex: 18 entries, 0 to 17\n",
            "Data columns (total 3 columns):\n",
            " #   Column       Non-Null Count  Dtype \n",
            "---  ------       --------------  ----- \n",
            " 0   title        18 non-null     object\n",
            " 1   description  18 non-null     object\n",
            " 2   genres       18 non-null     object\n",
            "dtypes: object(3)\n",
            "memory usage: 564.0+ bytes\n"
          ]
        }
      ]
    }
  ]
}